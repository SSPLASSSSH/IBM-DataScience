{
  "nbformat": 4,
  "nbformat_minor": 0,
  "metadata": {
    "colab": {
      "provenance": [],
      "authorship_tag": "ABX9TyPwdvxvGqXppjuXx9Bo5Pj4",
      "include_colab_link": true
    },
    "kernelspec": {
      "name": "python3",
      "display_name": "Python 3"
    },
    "language_info": {
      "name": "python"
    }
  },
  "cells": [
    {
      "cell_type": "markdown",
      "metadata": {
        "id": "view-in-github",
        "colab_type": "text"
      },
      "source": [
        "<a href=\"https://colab.research.google.com/github/SSPLASSSSH/IBM-DataScience/blob/main/Tools_for_Data_Science.ipynb\" target=\"_parent\"><img src=\"https://colab.research.google.com/assets/colab-badge.svg\" alt=\"Open In Colab\"/></a>"
      ]
    },
    {
      "cell_type": "markdown",
      "source": [
        "# Tools for Data Science"
      ],
      "metadata": {
        "id": "FXouwYWOo6MI"
      }
    },
    {
      "cell_type": "markdown",
      "source": [
        "## Introduction\n",
        "This project is build to explain and give and example to use the tools that usually use for Data Science Project"
      ],
      "metadata": {
        "id": "M2TUCEvCpSNm"
      }
    },
    {
      "cell_type": "markdown",
      "source": [
        "## Language for Data Science\n",
        "\n",
        "- Python\n",
        "- R\n",
        "- SQL"
      ],
      "metadata": {
        "id": "y4q_DMBxpi7N"
      }
    },
    {
      "cell_type": "markdown",
      "source": [
        "## Most Common Library to use in Data Science project\n",
        "\n",
        "- MatplotLib\n",
        "- Pandas\n",
        "- Numpy\n",
        "- Seaborn\n",
        "- Plotly\n",
        "- Scikit-learn\n",
        "- TensorFlow"
      ],
      "metadata": {
        "id": "Y6U0DeRXpwsu"
      }
    },
    {
      "cell_type": "markdown",
      "source": [
        "\n",
        "## Popular Data Science Tools\n",
        "\n",
        "| Tool Name       | Category         | Description                                      |\n",
        "|-----------------|------------------|--------------------------------------------------|\n",
        "| Python          | Programming      | Widely used language with libraries like Pandas, NumPy, Scikit-learn |\n",
        "| R               | Programming      | Statistical computing and graphics               |\n",
        "| SQL | Programming | Data Query and Governance\n",
        "| Jupyter Notebook| IDE/Notebook     | Interactive coding environment for Python/R      |\n",
        "| TensorFlow      | Machine Learning | Open-source library for deep learning            |\n",
        "| Tableau         | Visualization    | Powerful data visualization tool                 |\n",
        "| Apache Spark    | Big Data         | Distributed data processing framework            |\n",
        "| Excel           | Spreadsheet      | Basic data analysis and visualization           \n"
      ],
      "metadata": {
        "id": "CkPOzw6EqMSY"
      }
    },
    {
      "cell_type": "markdown",
      "source": [
        "###  Arithmetic Expression\n",
        "\n",
        "\n",
        "| Expression       | Description              | Result |\n",
        "|------------------|--------------------------|--------|\n",
        "| `5 + 3`          | Addition                 | 8      |\n",
        "| `10 - 4`         | Subtraction              | 6      |\n",
        "| `6 * 7`          | Multiplication           | 42     |\n",
        "| `20 / 5`         | Division                 | 4.0    |\n",
        "| `2 ** 3`         | Exponentiation (2^3)     | 8      |\n",
        "| `10 % 3`         | Modulus (remainder)      | 1      |"
      ],
      "metadata": {
        "id": "mbRuz9_Jq_Qk"
      }
    },
    {
      "cell_type": "code",
      "source": [
        "def add_and_multiply(a, b):\n",
        "    add_result = a + b\n",
        "    multiply_result = a * b\n",
        "    return add_result, multiply_result"
      ],
      "metadata": {
        "id": "RFAb_4rZq-0k"
      },
      "execution_count": 1,
      "outputs": []
    },
    {
      "cell_type": "code",
      "source": [
        "def minutes_to_hours(minutes):\n",
        "    hours = minutes / 60\n",
        "    return hours"
      ],
      "metadata": {
        "id": "qKhxHQ09rZXI"
      },
      "execution_count": 2,
      "outputs": []
    },
    {
      "cell_type": "markdown",
      "source": [
        "## Objective List\n",
        "\n",
        "- Title ✅\n",
        "- Introduction ✅\n",
        "- List of Data Science Language ✅\n",
        "- List of Data Science Library ✅\n",
        "- Table of Data Science Tools ✅\n",
        "- Arithmetic Expression Example ✅\n",
        "- Multiply and Add number cell ✅\n",
        "- Convert minutes to hour ✅\n"
      ],
      "metadata": {
        "id": "-YVA86-_rhbw"
      }
    },
    {
      "cell_type": "markdown",
      "source": [
        "## Author\n",
        "Roger Moreno"
      ],
      "metadata": {
        "id": "gp7awUzMtjcA"
      }
    }
  ]
}